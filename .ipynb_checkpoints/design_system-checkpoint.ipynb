{
 "cells": [
  {
   "cell_type": "markdown",
   "id": "6d0e3471",
   "metadata": {},
   "source": [
    "# Jupyter Notebook Markdown Design System\n",
    "\n",
    "This notebook demonstrates how to create a reusable design system for Jupyter notebooks that renders properly in GitHub while maintaining visual styling.\n",
    "\n",
    "## Global CSS Styling\n",
    "\n",
    "First, let's define our global CSS styles in a cell at the beginning of the notebook:"
   ]
  },
  {
   "cell_type": "code",
   "execution_count": 1,
   "id": "10afea79",
   "metadata": {},
   "outputs": [
    {
     "data": {
      "text/html": [
       "\n",
       "    <style>\n",
       "    /* Global styles */\n",
       "    body {\n",
       "        font-family: 'Crimson Pro', 'Palatino', 'Georgia', serif;\n",
       "        line-height: 1.6;\n",
       "        color: #3c3c3c;\n",
       "        background-color: #fcfbf8;\n",
       "    }\n",
       "\n",
       "    h1, h2, h3, h4 {\n",
       "        font-family: 'Quattrocento Sans', 'Avenir', 'Helvetica Neue', sans-serif;\n",
       "        color: #545454;\n",
       "    }\n",
       "\n",
       "    /* Custom component styles */\n",
       "    .definition-block {\n",
       "        background-color: #e8e2d6;\n",
       "        border-left: 5px solid #ad8e70;\n",
       "        border-radius: 8px;\n",
       "        padding: 15px 20px;\n",
       "        margin: 20px 0;\n",
       "    }\n",
       "\n",
       "    .explanation-block {\n",
       "        background-color: #e5edd0;\n",
       "        border-left: 5px solid #789259;\n",
       "        border-radius: 8px;\n",
       "        padding: 15px 20px;\n",
       "        margin: 20px 0;\n",
       "    }\n",
       "\n",
       "    .resources-block {\n",
       "        background-color: #d6e2e8;\n",
       "        border-left: 5px solid #6a8eaa;\n",
       "        border-radius: 8px;\n",
       "        padding: 15px 20px;\n",
       "        margin: 20px 0;\n",
       "    }\n",
       "\n",
       "    .outcome-block {\n",
       "        background-color: #f0e6d7;\n",
       "        border: 2px solid #c0a080;\n",
       "        border-radius: 8px;\n",
       "        padding: 15px 20px;\n",
       "        margin: 30px 0;\n",
       "        text-align: center;\n",
       "        font-size: 1.1em;\n",
       "    }\n",
       "\n",
       "    .image-container {\n",
       "        text-align: center;\n",
       "        margin: 20px 0;\n",
       "    }\n",
       "\n",
       "    .grid-container {\n",
       "        display: grid;\n",
       "        grid-template-columns: repeat(2, 1fr);\n",
       "        gap: 20px;\n",
       "        margin: 20px 0;\n",
       "    }\n",
       "\n",
       "    .grid-item {\n",
       "        background-color: #f7f5f0;\n",
       "        border-radius: 8px;\n",
       "        padding: 15px;\n",
       "        box-shadow: 0 2px 4px rgba(0,0,0,0.05);\n",
       "    }\n",
       "\n",
       "    code {\n",
       "        background-color: #f0ebe2;\n",
       "        color: #734f3e;\n",
       "        padding: 2px 5px;\n",
       "        border-radius: 4px;\n",
       "    }\n",
       "    </style>\n",
       "    "
      ],
      "text/plain": [
       "<IPython.core.display.HTML object>"
      ]
     },
     "execution_count": 1,
     "metadata": {},
     "output_type": "execute_result"
    }
   ],
   "source": [
    "from IPython.display import HTML\n",
    "\n",
    "# Define global styles once at the beginning of your notebook\n",
    "def setup_styles():\n",
    "    return HTML('''\n",
    "    <style>\n",
    "    /* Global styles */\n",
    "    body {\n",
    "        font-family: 'Crimson Pro', 'Palatino', 'Georgia', serif;\n",
    "        line-height: 1.6;\n",
    "        color: #3c3c3c;\n",
    "        background-color: #fcfbf8;\n",
    "    }\n",
    "\n",
    "    h1, h2, h3, h4 {\n",
    "        font-family: 'Quattrocento Sans', 'Avenir', 'Helvetica Neue', sans-serif;\n",
    "        color: #545454;\n",
    "    }\n",
    "\n",
    "    /* Custom component styles */\n",
    "    .definition-block {\n",
    "        background-color: #e8e2d6;\n",
    "        border-left: 5px solid #ad8e70;\n",
    "        border-radius: 8px;\n",
    "        padding: 15px 20px;\n",
    "        margin: 20px 0;\n",
    "    }\n",
    "\n",
    "    .explanation-block {\n",
    "        background-color: #e5edd0;\n",
    "        border-left: 5px solid #789259;\n",
    "        border-radius: 8px;\n",
    "        padding: 15px 20px;\n",
    "        margin: 20px 0;\n",
    "    }\n",
    "\n",
    "    .resources-block {\n",
    "        background-color: #d6e2e8;\n",
    "        border-left: 5px solid #6a8eaa;\n",
    "        border-radius: 8px;\n",
    "        padding: 15px 20px;\n",
    "        margin: 20px 0;\n",
    "    }\n",
    "\n",
    "    .outcome-block {\n",
    "        background-color: #f0e6d7;\n",
    "        border: 2px solid #c0a080;\n",
    "        border-radius: 8px;\n",
    "        padding: 15px 20px;\n",
    "        margin: 30px 0;\n",
    "        text-align: center;\n",
    "        font-size: 1.1em;\n",
    "    }\n",
    "\n",
    "    .image-container {\n",
    "        text-align: center;\n",
    "        margin: 20px 0;\n",
    "    }\n",
    "\n",
    "    .grid-container {\n",
    "        display: grid;\n",
    "        grid-template-columns: repeat(2, 1fr);\n",
    "        gap: 20px;\n",
    "        margin: 20px 0;\n",
    "    }\n",
    "\n",
    "    .grid-item {\n",
    "        background-color: #f7f5f0;\n",
    "        border-radius: 8px;\n",
    "        padding: 15px;\n",
    "        box-shadow: 0 2px 4px rgba(0,0,0,0.05);\n",
    "    }\n",
    "\n",
    "    code {\n",
    "        background-color: #f0ebe2;\n",
    "        color: #734f3e;\n",
    "        padding: 2px 5px;\n",
    "        border-radius: 4px;\n",
    "    }\n",
    "    </style>\n",
    "    ''')\n",
    "\n",
    "# Run this once at the top of your notebook\n",
    "setup_styles()"
   ]
  },
  {
   "cell_type": "markdown",
   "id": "b7f3afa6",
   "metadata": {},
   "source": [
    "## Component Helper Functions\n",
    "\n",
    "Now, let's create helper functions to generate our styled components:"
   ]
  },
  {
   "cell_type": "code",
   "execution_count": 2,
   "id": "1601c573",
   "metadata": {},
   "outputs": [],
   "source": [
    "from IPython.display import Markdown, display, HTML\n",
    "\n",
    "def show_definition(text):\n",
    "    \"\"\"Display a definition block with custom styling\"\"\"\n",
    "    display(HTML(f'<div class=\"definition-block\">{text}</div>'))\n",
    "    \n",
    "def show_explanation(text):\n",
    "    \"\"\"Display an explanation block with custom styling\"\"\"\n",
    "    display(HTML(f'<div class=\"explanation-block\">{text}</div>'))\n",
    "    \n",
    "def show_resources(text):\n",
    "    \"\"\"Display a resources block with custom styling\"\"\"\n",
    "    display(HTML(f'<div class=\"resources-block\">{text}</div>'))\n",
    "\n",
    "def show_outcome(text):\n",
    "    \"\"\"Display an outcome block with custom styling\"\"\"\n",
    "    display(HTML(f'<div class=\"outcome-block\">{text}</div>'))\n",
    "\n",
    "def show_grid(items, columns=2):\n",
    "    \"\"\"Display items in a responsive grid layout\n",
    "    \n",
    "    Args:\n",
    "        items: List of HTML strings to display in grid\n",
    "        columns: Number of columns (default: 2)\n",
    "    \"\"\"\n",
    "    html = f'<div class=\"grid-container\" style=\"grid-template-columns: repeat({columns}, 1fr);\">'\n",
    "    for item in items:\n",
    "        html += f'<div class=\"grid-item\">{item}</div>'\n",
    "    html += '</div>'\n",
    "    display(HTML(html))"
   ]
  },
  {
   "cell_type": "markdown",
   "id": "58f5f793",
   "metadata": {},
   "source": [
    "## GitHub-Compatible Components\n",
    "\n",
    "For GitHub rendering (where custom CSS won't work), we can create alternatives that use Markdown tables:"
   ]
  },
  {
   "cell_type": "code",
   "execution_count": 3,
   "id": "940bc864",
   "metadata": {},
   "outputs": [],
   "source": [
    "def github_definition(text):\n",
    "    \"\"\"GitHub-compatible definition block using markdown tables\"\"\"\n",
    "    md = f\"\"\"\n",
    "<table>\n",
    "  <tr>\n",
    "    <td style=\"background-color: #e8e2d6; border-left: 5px solid #ad8e70; border-radius: 8px; padding: 15px 20px;\">\n",
    "      {text}\n",
    "    </td>\n",
    "  </tr>\n",
    "</table>\n",
    "\"\"\"\n",
    "    display(Markdown(md))\n",
    "    \n",
    "def github_explanation(text):\n",
    "    \"\"\"GitHub-compatible explanation block using markdown tables\"\"\"\n",
    "    md = f\"\"\"\n",
    "<table>\n",
    "  <tr>\n",
    "    <td style=\"background-color: #e5edd0; border-left: 5px solid #789259; border-radius: 8px; padding: 15px 20px;\">\n",
    "      {text}\n",
    "    </td>\n",
    "  </tr>\n",
    "</table>\n",
    "\"\"\"\n",
    "    display(Markdown(md))\n",
    "\n",
    "def github_resources(text):\n",
    "    \"\"\"GitHub-compatible resources block using markdown tables\"\"\"\n",
    "    md = f\"\"\"\n",
    "<table>\n",
    "  <tr>\n",
    "    <td style=\"background-color: #d6e2e8; border-left: 5px solid #6a8eaa; border-radius: 8px; padding: 15px 20px;\">\n",
    "      {text}\n",
    "    </td>\n",
    "  </tr>\n",
    "</table>\n",
    "\"\"\"\n",
    "    display(Markdown(md))\n",
    "\n",
    "def github_grid(items, columns=2):\n",
    "    \"\"\"GitHub-compatible grid layout using markdown tables\n",
    "    \n",
    "    Args:\n",
    "        items: List of strings to display in grid\n",
    "        columns: Number of columns (default: 2)\n",
    "    \"\"\"\n",
    "    md = \"<table>\\n\"\n",
    "    \n",
    "    # Calculate rows needed\n",
    "    rows = (len(items) + columns - 1) // columns\n",
    "    \n",
    "    for row in range(rows):\n",
    "        md += \"  <tr>\\n\"\n",
    "        for col in range(columns):\n",
    "            idx = row * columns + col\n",
    "            if idx < len(items):\n",
    "                md += f'    <td style=\"background-color: #f7f5f0; border-radius: 8px; padding: 15px; margin: 10px; width: {100//columns-4}%;\">\\n'\n",
    "                md += f'      {items[idx]}\\n'\n",
    "                md += '    </td>\\n'\n",
    "            else:\n",
    "                md += '    <td></td>\\n'\n",
    "        md += \"  </tr>\\n\"\n",
    "    md += \"</table>\"\n",
    "    \n",
    "    display(Markdown(md))"
   ]
  },
  {
   "cell_type": "markdown",
   "id": "1cd05c6e",
   "metadata": {},
   "source": [
    "## Usage Example\n",
    "\n",
    "Here's how to use these components in your notebook:"
   ]
  },
  {
   "cell_type": "code",
   "execution_count": 6,
   "id": "4604959b",
   "metadata": {},
   "outputs": [
    {
     "data": {
      "text/html": [
       "<div class=\"definition-block\"><strong>Knowledge</strong>: Information that AI systems can access and utilize to perform tasks, answer questions, and make decisions.</div>"
      ],
      "text/plain": [
       "<IPython.core.display.HTML object>"
      ]
     },
     "metadata": {},
     "output_type": "display_data"
    },
    {
     "data": {
      "text/markdown": [
       "\n",
       "<table>\n",
       "  <tr>\n",
       "    <td style=\"background-color: #e8e2d6; border-left: 5px solid #ad8e70; border-radius: 8px; padding: 15px 20px;\">\n",
       "      <strong>Knowledge</strong>: Information that AI systems can access and utilize to perform tasks, answer questions, and make decisions.\n",
       "    </td>\n",
       "  </tr>\n",
       "</table>\n"
      ],
      "text/plain": [
       "<IPython.core.display.Markdown object>"
      ]
     },
     "metadata": {},
     "output_type": "display_data"
    },
    {
     "data": {
      "text/html": [
       "<div class=\"grid-container\" style=\"grid-template-columns: repeat(2, 1fr);\"><div class=\"grid-item\"><h4>Parametric Knowledge</h4>Information encoded directly within the model's weights during training.</div><div class=\"grid-item\"><h4>Non-Parametric Knowledge</h4>Information stored outside the model's parameters, typically in external databases.</div></div>"
      ],
      "text/plain": [
       "<IPython.core.display.HTML object>"
      ]
     },
     "metadata": {},
     "output_type": "display_data"
    },
    {
     "data": {
      "text/markdown": [
       "<table>\n",
       "  <tr>\n",
       "    <td style=\"background-color: #f7f5f0; border-radius: 8px; padding: 15px; margin: 10px; width: 46%;\">\n",
       "      <h4>Parametric Knowledge</h4>Information encoded directly within the model's weights during training.\n",
       "    </td>\n",
       "    <td style=\"background-color: #f7f5f0; border-radius: 8px; padding: 15px; margin: 10px; width: 46%;\">\n",
       "      <h4>Non-Parametric Knowledge</h4>Information stored outside the model's parameters, typically in external databases.\n",
       "    </td>\n",
       "  </tr>\n",
       "</table>"
      ],
      "text/plain": [
       "<IPython.core.display.Markdown object>"
      ]
     },
     "metadata": {},
     "output_type": "display_data"
    },
    {
     "data": {
      "text/html": [
       "<div class=\"outcome-block\">By the end of this course, you'll be able to design and implement advanced AI agent systems.</div>"
      ],
      "text/plain": [
       "<IPython.core.display.HTML object>"
      ]
     },
     "metadata": {},
     "output_type": "display_data"
    }
   ],
   "source": [
    "# For local Jupyter viewing with full CSS styling\n",
    "show_definition(\"<strong>Knowledge</strong>: Information that AI systems can access and utilize to perform tasks, answer questions, and make decisions.\")\n",
    "\n",
    "# For GitHub-compatible rendering\n",
    "github_definition(\"<strong>Knowledge</strong>: Information that AI systems can access and utilize to perform tasks, answer questions, and make decisions.\")\n",
    "\n",
    "# Using the grid component\n",
    "show_grid([\n",
    "    \"<h4>Parametric Knowledge</h4>Information encoded directly within the model's weights during training.\",\n",
    "    \"<h4>Non-Parametric Knowledge</h4>Information stored outside the model's parameters, typically in external databases.\"\n",
    "])\n",
    "\n",
    "# GitHub-compatible grid\n",
    "github_grid([\n",
    "    \"<h4>Parametric Knowledge</h4>Information encoded directly within the model's weights during training.\",\n",
    "    \"<h4>Non-Parametric Knowledge</h4>Information stored outside the model's parameters, typically in external databases.\"\n",
    "])\n",
    "\n",
    "# Outcome block\n",
    "show_outcome(\"By the end of this course, you'll be able to design and implement advanced AI agent systems.\")"
   ]
  },
  {
   "cell_type": "markdown",
   "id": "a63feb29",
   "metadata": {},
   "source": [
    "## Best Practices for GitHub Compatibility\n",
    "\n",
    "1. **Detect GitHub environment**: You could potentially detect if the notebook is being rendered on GitHub and automatically switch to the GitHub-compatible rendering.\n",
    "\n",
    "2. **Hide code cells**: Consider using notebook extensions like `nb_hide_input` to hide the styling code cells when exporting to GitHub.\n",
    "\n",
    "3. **Use Markdown when possible**: Pure Markdown elements will always render properly on GitHub.\n",
    "\n",
    "4. **Fallback styling**: For GitHub, stick to basic Markdown with simple HTML tables which will render acceptably.\n",
    "\n",
    "## Complete Example\n",
    "\n",
    "Here's a more complete example putting it all together:"
   ]
  },
  {
   "cell_type": "code",
   "execution_count": 5,
   "id": "d0543f4f",
   "metadata": {},
   "outputs": [
    {
     "data": {
      "text/html": [
       "<div class=\"definition-block\"><strong>Memory</strong>: An AI system's ability to store and recall past experiences, interactions, or computational states.</div>"
      ],
      "text/plain": [
       "<IPython.core.display.HTML object>"
      ]
     },
     "metadata": {},
     "output_type": "display_data"
    },
    {
     "data": {
      "text/markdown": [
       "\n",
       "<table>\n",
       "  <tr>\n",
       "    <td style=\"background-color: #e8e2d6; border-left: 5px solid #ad8e70; border-radius: 8px; padding: 15px 20px;\">\n",
       "      <strong>Memory</strong>: An AI system's ability to store and recall past experiences, interactions, or computational states.\n",
       "    </td>\n",
       "  </tr>\n",
       "</table>\n"
      ],
      "text/plain": [
       "<IPython.core.display.Markdown object>"
      ]
     },
     "metadata": {},
     "output_type": "display_data"
    }
   ],
   "source": [
    "# Define both local and GitHub components in a single function for convenience\n",
    "def definition_block(text, target=\"both\"):\n",
    "    \"\"\"Display a definition block that works in both environments\"\"\"\n",
    "    if target in [\"local\", \"both\"]:\n",
    "        show_definition(text)\n",
    "    if target in [\"github\", \"both\"]:\n",
    "        github_definition(text)\n",
    "\n",
    "# Example usage\n",
    "definition_block(\"<strong>Memory</strong>: An AI system's ability to store and recall past experiences, interactions, or computational states.\")"
   ]
  },
  {
   "cell_type": "markdown",
   "id": "8bee2572",
   "metadata": {},
   "source": [
    "This design system approach allows you to:\n",
    "1. Define styles once\n",
    "2. Create reusable components\n",
    "3. Handle both local Jupyter and GitHub rendering\n",
    "4. Maintain visual consistency throughout your notebooks"
   ]
  },
  {
   "cell_type": "code",
   "execution_count": null,
   "id": "032c7f06-b2ba-4253-a7e1-5e73de3764b1",
   "metadata": {},
   "outputs": [],
   "source": []
  },
  {
   "cell_type": "code",
   "execution_count": null,
   "id": "a2fd947a-e0fa-4351-bf1a-1e0183eada7e",
   "metadata": {},
   "outputs": [],
   "source": []
  },
  {
   "cell_type": "code",
   "execution_count": null,
   "id": "8918798a-9be6-4ae2-a939-f04637796f87",
   "metadata": {},
   "outputs": [],
   "source": []
  },
  {
   "cell_type": "code",
   "execution_count": null,
   "id": "9f5ac04b-7a4e-430a-98d8-de2da0679557",
   "metadata": {},
   "outputs": [],
   "source": []
  }
 ],
 "metadata": {
  "jupytext": {
   "formats": "ipynb,md"
  },
  "kernelspec": {
   "display_name": "Python 3 (ipykernel)",
   "language": "python",
   "name": "python3"
  },
  "language_info": {
   "codemirror_mode": {
    "name": "ipython",
    "version": 3
   },
   "file_extension": ".py",
   "mimetype": "text/x-python",
   "name": "python",
   "nbconvert_exporter": "python",
   "pygments_lexer": "ipython3",
   "version": "3.11.8"
  }
 },
 "nbformat": 4,
 "nbformat_minor": 5
}
